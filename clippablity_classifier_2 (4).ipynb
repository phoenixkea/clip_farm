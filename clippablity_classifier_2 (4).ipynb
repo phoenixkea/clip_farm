{
  "cells": [
    {
      "cell_type": "code",
      "execution_count": 1,
      "metadata": {
        "colab": {
          "base_uri": "https://localhost:8080/"
        },
        "id": "7PfoLI8g_VOD",
        "outputId": "1271973a-a2d4-4120-de7f-44b6cdfbd460"
      },
      "outputs": [
        {
          "output_type": "stream",
          "name": "stdout",
          "text": [
            "Mounted at /content/drive\n"
          ]
        }
      ],
      "source": [
        "from google.colab import drive\n",
        "drive.mount('/content/drive')\n"
      ]
    },
    {
      "cell_type": "code",
      "execution_count": 2,
      "metadata": {
        "id": "hwJUSc0N_qb8"
      },
      "outputs": [],
      "source": [
        "import pandas as pd\n",
        "visual_df = pd.read_csv('/content/drive/My Drive/clipfarm_visual_features.csv.csv')\n",
        "training_df = pd.read_csv('/content/drive/My Drive/clip_farm_outputs.csv')"
      ]
    },
    {
      "cell_type": "code",
      "execution_count": 3,
      "metadata": {
        "colab": {
          "base_uri": "https://localhost:8080/"
        },
        "id": "vvDVLJfvIQpG",
        "outputId": "50a240b5-1451-48a0-b189-4de6cf1f7340"
      },
      "outputs": [
        {
          "output_type": "stream",
          "name": "stdout",
          "text": [
            "Visual titles:\n",
            "0                                    #catsoftiktok.mp4\n",
            "1                                 500 pound jynxzi.mp4\n",
            "2                         Islam Makhachev VS Adin .mp4\n",
            "3    Product Link in Bio ( # 2300 ) ✅ 4-Layer Japan...\n",
            "4                     Sigma Kid Love #funny #sigma.mp4\n",
            "5                             TASTING LITTLE MOONS.mp4\n",
            "6                       When the toilet occupied! .mp4\n",
            "7               am i pretty? Danny Gonzalez Shorts.mp4\n",
            "8                        cuando no encontras lugar.mp4\n",
            "9                 本以为胜券在握，没想到天都塌了#母女日常 #亲子日常#万万想不到.mp4\n",
            "Name: video_file, dtype: object\n",
            "Metric titles:\n",
            "0                                   Superman | Rivalry\n",
            "1    Dark Days Are Upon Us | Clash of Clans New Season\n",
            "2                                   Superman | Rivalry\n",
            "3    Dark Days Are Upon Us | Clash of Clans New Season\n",
            "4             Chinna Marumagal | 6th June 2025 - Promo\n",
            "5    Sindhu Bairavi Kacheri Arambam | 6th June 2025...\n",
            "6         Ayyanar Thunai | 6th & 7th June 2025 - Promo\n",
            "7    Ethirneechal Thodargiradhu - Promo | 07 June 2...\n",
            "8    Annam- Promo | 07 June 2025 | Tamil Serial | S...\n",
            "9    Sandhya Raagam (சந்தியாராகம்) | திங்கள்-சனி, இ...\n",
            "Name: title, dtype: object\n"
          ]
        }
      ],
      "source": [
        "print(\"Visual titles:\")\n",
        "print(visual_df['video_file'].head(10))\n",
        "\n",
        "print(\"Metric titles:\")\n",
        "print(training_df['title'].head(10))\n"
      ]
    },
    {
      "cell_type": "code",
      "execution_count": 4,
      "metadata": {
        "colab": {
          "base_uri": "https://localhost:8080/"
        },
        "id": "Zb_FlgYkJrkX",
        "outputId": "271bf7bb-fe7b-4106-aae0-17ebd90af1d7"
      },
      "outputs": [
        {
          "output_type": "stream",
          "name": "stdout",
          "text": [
            "0                                      supermanrivalry\n",
            "1               darkdaysareuponusclashofclansnewseason\n",
            "2                                      supermanrivalry\n",
            "3               darkdaysareuponusclashofclansnewseason\n",
            "4                      chinnamarumagal6thjune2025promo\n",
            "5          sindhubairavikacheriarambam6thjune2025promo\n",
            "6                     ayyanarthunai6th7thjune2025promo\n",
            "7    ethirneechalthodargiradhupromo07june2025tamils...\n",
            "8                 annampromo07june2025tamilserialsuntv\n",
            "9    sandhyaraagamசநதயரகமதஙகளசனஇரவ1000மணகக06jun25pr...\n",
            "Name: clean_title, dtype: object\n",
            "0                       catsoftiktok\n",
            "1                     500poundjynxzi\n",
            "2               islammakhachevvsadin\n",
            "3    productlinkinbio23004layerjapan\n",
            "4             sigmakidlovefunnysigma\n",
            "5                 tastinglittlemoons\n",
            "6              whenthetoiletoccupied\n",
            "7       amiprettydannygonzalezshorts\n",
            "8             cuandonoencontraslugar\n",
            "9        本以为胜券在握没想到天都塌了母女日常亲子日常万万想不到\n",
            "Name: clean_title, dtype: object\n"
          ]
        }
      ],
      "source": [
        "import re\n",
        "\n",
        "def clean_title(title):\n",
        "    if pd.isnull(title): return ''\n",
        "    return re.sub(r'[^\\w\\s]', '', title.lower().replace(\" \", \"\"))\n",
        "\n",
        "def clean_title(title):\n",
        "    if pd.isnull(title): return ''\n",
        "    title = title.lower().strip()\n",
        "    title = re.sub(r'\\.mp4$', '', title)              # remove .mp4 if present\n",
        "    title = re.sub(r'[^\\w\\s]', '', title)             # remove punctuation\n",
        "    title = re.sub(r'\\s+', '', title)                 # remove spaces\n",
        "    return title\n",
        "\n",
        "visual_df['clean_title'] = visual_df['video_file'].apply(clean_title)\n",
        "training_df['clean_title'] = training_df['title'].apply(clean_title)\n",
        "\n",
        "print(training_df['clean_title'].head(10))\n",
        "print(visual_df['clean_title'].head(10))\n"
      ]
    },
    {
      "cell_type": "markdown",
      "metadata": {
        "id": "bKuFPuFNL7tF"
      },
      "source": [
        "visual and metric data merged"
      ]
    },
    {
      "cell_type": "code",
      "execution_count": 5,
      "metadata": {
        "colab": {
          "base_uri": "https://localhost:8080/"
        },
        "id": "RRbkCfDcK_uz",
        "outputId": "9577df3f-1d3c-4036-8ef7-99257f8fac83"
      },
      "outputs": [
        {
          "output_type": "stream",
          "name": "stdout",
          "text": [
            "Merged shape: (9, 27)\n",
            "                               video_file                               title\n",
            "0                    500 pound jynxzi.mp4                    500 pound jynxzi\n",
            "1            Islam Makhachev VS Adin .mp4           Islam Makhachev VS Adin 😂\n",
            "2            Islam Makhachev VS Adin .mp4           Islam Makhachev VS Adin 😂\n",
            "3        Sigma Kid Love #funny #sigma.mp4        Sigma Kid Love #funny #sigma\n",
            "4        Sigma Kid Love #funny #sigma.mp4        Sigma Kid Love #funny #sigma\n",
            "5        Sigma Kid Love #funny #sigma.mp4        Sigma Kid Love #funny #sigma\n",
            "6          When the toilet occupied! .mp4        When the toilet occupied! 😩🚽\n",
            "7  am i pretty? Danny Gonzalez Shorts.mp4  am i pretty? Danny Gonzalez Shorts\n",
            "8           cuando no encontras lugar.mp4           cuando no encontras lugar\n"
          ]
        }
      ],
      "source": [
        "merged_df = pd.merge(visual_df, training_df, on='clean_title', how='inner')\n",
        "print(\"Merged shape:\", merged_df.shape)\n",
        "\n",
        "# preview what matched\n",
        "print(merged_df[['video_file', 'title']].head(20))\n"
      ]
    },
    {
      "cell_type": "markdown",
      "metadata": {
        "id": "N371gTpdAwy9"
      },
      "source": [
        "0 - not viral 1 - viral"
      ]
    },
    {
      "cell_type": "markdown",
      "metadata": {
        "id": "SAJf5uQzBDM_"
      },
      "source": [
        "separate features (X) and labels (y), then split into training and testing sets"
      ]
    },
    {
      "cell_type": "code",
      "source": [
        "# print columns to verify existence and name of 'avg_dominant_color_rgb'\n",
        "print(\"Columns before processing avg_dominant_color_rgb:\")\n",
        "print(visual_df.columns)"
      ],
      "metadata": {
        "colab": {
          "base_uri": "https://localhost:8080/"
        },
        "id": "_gB_hHpHnz--",
        "outputId": "d5dae233-44f4-4f97-92db-333d5e653a25"
      },
      "execution_count": 6,
      "outputs": [
        {
          "output_type": "stream",
          "name": "stdout",
          "text": [
            "Columns before processing avg_dominant_color_rgb:\n",
            "Index(['video_file', 'total_frames_x', 'overall_avg_brightness',\n",
            "       'avg_motion_intensity', 'total_frames_y', 'avg_contrast',\n",
            "       'total_frames_with_faces', 'angry', 'disgust', 'fear', 'happy', 'sad',\n",
            "       'surprise', 'neutral', 'face_presence_ratio', 'avg_shot_length_frames',\n",
            "       'total_shots', 'avg_dominant_color_rgb', 'clean_title'],\n",
            "      dtype='object')\n"
          ]
        }
      ]
    },
    {
      "cell_type": "code",
      "execution_count": 7,
      "metadata": {
        "id": "mG9kLJ5hEovB"
      },
      "outputs": [],
      "source": [
        "# if not already split: turn string tuples like '(179, 159, 148)' into separate columns\n",
        "visual_df[['dominant_color_r', 'dominant_color_g', 'dominant_color_b']] = (\n",
        "    visual_df['avg_dominant_color_rgb']\n",
        "    .str.strip('()')\n",
        "    .str.split(',', expand=True)\n",
        "    .astype(float)\n",
        ")\n",
        "visual_df = visual_df.drop(columns=['avg_dominant_color_rgb'])\n"
      ]
    },
    {
      "cell_type": "code",
      "source": [
        "import numpy as np"
      ],
      "metadata": {
        "id": "dKntcruDyUR7"
      },
      "execution_count": 8,
      "outputs": []
    },
    {
      "cell_type": "code",
      "execution_count": 9,
      "metadata": {
        "id": "7JGWPfTBMbGB"
      },
      "outputs": [],
      "source": [
        "viral_titles = [\n",
        "    '500 pound jynxzi',\n",
        "    'Sigma Kid Love #funny #sigma',\n",
        "    'Islam Makhachev VS Adin 😂',\n",
        "    '   cuando no encontras lugar',\n",
        "    'am i pretty? Danny Gonzalez Shorts',\n",
        "]\n",
        "\n",
        "non_viral_titles = [\n",
        "    # created dummy data\n",
        "]\n"
      ]
    },
    {
      "cell_type": "code",
      "source": [
        "merged_df['viral'] = merged_df['title'].apply(\n",
        "    lambda x: 1 if x in viral_titles else (0 if x in non_viral_titles else np.nan)\n",
        ")\n",
        "\n",
        "print(merged_df['viral'].value_counts(dropna=False))\n",
        "\n"
      ],
      "metadata": {
        "colab": {
          "base_uri": "https://localhost:8080/"
        },
        "id": "JOF5CnayuAld",
        "outputId": "a520058c-d2a9-42b6-82f8-3d7993a00adf"
      },
      "execution_count": 10,
      "outputs": [
        {
          "output_type": "stream",
          "name": "stdout",
          "text": [
            "viral\n",
            "1.0    7\n",
            "NaN    2\n",
            "Name: count, dtype: int64\n"
          ]
        }
      ]
    },
    {
      "cell_type": "code",
      "source": [
        "import numpy as np\n",
        "import pandas as pd\n",
        "\n",
        "# 1. get numeric feature columns from your real X\n",
        "numeric_features = merged_df.drop(columns=['video_file', 'title', 'clean_title', 'viral']).select_dtypes(exclude='object').columns.tolist()\n",
        "\n",
        "# 2. create 100 fake samples\n",
        "n_samples = 100\n",
        "\n",
        "# 3. create a synthetic dataset using normal distribution\n",
        "synthetic_data = pd.DataFrame(\n",
        "    np.random.normal(loc=0.5, scale=0.2, size=(n_samples, len(numeric_features))),\n",
        "    columns=numeric_features\n",
        ")\n",
        "\n",
        "# 4. clip values to stay in [0, 1]\n",
        "synthetic_data = synthetic_data.clip(0, 1)\n",
        "\n",
        "# 5. create synthetic labels (balanced)\n",
        "synthetic_labels = np.array([0]*50 + [1]*50)\n",
        "\n",
        "# 6. shuffle\n",
        "shuffled = synthetic_data.copy()\n",
        "shuffled['viral'] = synthetic_labels\n",
        "shuffled = shuffled.sample(frac=1, random_state=42).reset_index(drop=True)\n",
        "\n",
        "# 7. extract X and y for model training\n",
        "X = shuffled.drop(columns='viral')\n",
        "y = shuffled['viral']\n"
      ],
      "metadata": {
        "id": "DJKUnbC71TxU"
      },
      "execution_count": 11,
      "outputs": []
    },
    {
      "cell_type": "code",
      "source": [
        "merged_df = merged_df.dropna(subset=['viral'])\n",
        "print(\"Shape after dropping NaNs:\", merged_df.shape)\n",
        "print(\"Label counts:\", merged_df['viral'].value_counts())\n"
      ],
      "metadata": {
        "colab": {
          "base_uri": "https://localhost:8080/"
        },
        "id": "ANyeHPkAyIlR",
        "outputId": "2f4194e5-e586-48c2-eb87-96382415dc7f"
      },
      "execution_count": 12,
      "outputs": [
        {
          "output_type": "stream",
          "name": "stdout",
          "text": [
            "Shape after dropping NaNs: (7, 28)\n",
            "Label counts: viral\n",
            "1.0    7\n",
            "Name: count, dtype: int64\n"
          ]
        }
      ]
    },
    {
      "cell_type": "code",
      "source": [
        "# convert to int\n",
        "merged_df['viral'] = merged_df['viral'].astype(int)\n",
        "\n",
        "\n",
        "print(\"\\nViral column data type:\", merged_df['viral'].dtype)"
      ],
      "metadata": {
        "colab": {
          "base_uri": "https://localhost:8080/"
        },
        "id": "vhpn-9q63dam",
        "outputId": "3b8226ab-9676-4eef-dc9f-7aa07840c658"
      },
      "execution_count": 13,
      "outputs": [
        {
          "output_type": "stream",
          "name": "stdout",
          "text": [
            "\n",
            "Viral column data type: int64\n"
          ]
        }
      ]
    },
    {
      "cell_type": "code",
      "execution_count": 14,
      "metadata": {
        "colab": {
          "base_uri": "https://localhost:8080/"
        },
        "id": "6YivTvI8BA9P",
        "outputId": "22c5b007-58eb-42a7-e0df-e90cf2fbe508"
      },
      "outputs": [
        {
          "output_type": "stream",
          "name": "stdout",
          "text": [
            "\n",
            "Data splitting complete.\n",
            "Shape of X_train: (5, 21)\n",
            "Shape of y_train: (5,)\n",
            "Shape of X_test: (2, 21)\n",
            "Shape of y_test: (2,)\n"
          ]
        }
      ],
      "source": [
        "from sklearn.model_selection import train_test_split\n",
        "\n",
        "# 1. drop non-feature columns\n",
        "X = merged_df.drop(columns=['video_file', 'title', 'clean_title', 'viral', 'label'])\n",
        "X = X.select_dtypes(exclude='object')  # keeps only numeric columns\n",
        "y = merged_df['label']\n",
        "\n",
        "# 2. split the data\n",
        "X_train, X_test, y_train, y_test = train_test_split(\n",
        "    X, y, test_size=0.2, random_state=42\n",
        ")\n",
        "\n",
        "print(\"\\nData splitting complete.\")\n",
        "print(\"Shape of X_train:\", X_train.shape)\n",
        "print(\"Shape of y_train:\", y_train.shape)\n",
        "print(\"Shape of X_test:\", X_test.shape)\n",
        "print(\"Shape of y_test:\", y_test.shape)"
      ]
    },
    {
      "cell_type": "markdown",
      "metadata": {
        "id": "OTMqyJgzIFmZ"
      },
      "source": [
        "\n",
        "80% of your dataset goes into training → X_train, y_train\n",
        "\n",
        "20% goes into testing → X_test, y_test\n",
        "\n",
        "With 10 total samples:\n",
        "\n",
        "80% of 10 = 16 videos go to training\n",
        "\n",
        "20% of 10 = 4 videos go to testing\n"
      ]
    },
    {
      "cell_type": "code",
      "execution_count": 15,
      "metadata": {
        "colab": {
          "base_uri": "https://localhost:8080/"
        },
        "id": "IpI_CszNBHEU",
        "outputId": "eb482128-f716-4309-e256-7b52ef19f7e7"
      },
      "outputs": [
        {
          "output_type": "stream",
          "name": "stdout",
          "text": [
            "Accuracy: 1.0\n"
          ]
        }
      ],
      "source": [
        "from sklearn.ensemble import RandomForestClassifier\n",
        "from sklearn.metrics import accuracy_score, classification_report, confusion_matrix\n",
        "import seaborn as sns\n",
        "import matplotlib.pyplot as plt\n",
        "import numpy as np\n",
        "\n",
        "clf = RandomForestClassifier(random_state=42)\n",
        "clf.fit(X_train, y_train)\n",
        "\n",
        "y_pred = clf.predict(X_test)\n",
        "\n",
        "accuracy = accuracy_score(y_test, y_pred)\n",
        "print(\"Accuracy:\", accuracy)"
      ]
    },
    {
      "cell_type": "code",
      "execution_count": 16,
      "metadata": {
        "colab": {
          "base_uri": "https://localhost:8080/"
        },
        "id": "fs_UnDOAccry",
        "outputId": "a8562b9a-6122-4cd7-f889-c4a839c2cafc"
      },
      "outputs": [
        {
          "output_type": "stream",
          "name": "stdout",
          "text": [
            "🧠 Available columns:\n",
            "['video_file', 'total_frames_x', 'overall_avg_brightness', 'avg_motion_intensity', 'total_frames_y', 'avg_contrast', 'total_frames_with_faces', 'angry', 'disgust', 'fear', 'happy', 'sad', 'surprise', 'neutral', 'face_presence_ratio', 'avg_shot_length_frames', 'total_shots', 'avg_dominant_color_rgb', 'clean_title', 'views_per_second', 'likes_to_views_ratio', 'title_length', 'has_hashtags', 'has_emoji', 'video_id', 'label', 'title', 'viral']\n"
          ]
        }
      ],
      "source": [
        "print(\"Available columns:\")\n",
        "print(merged_df.columns.tolist())\n"
      ]
    },
    {
      "cell_type": "code",
      "execution_count": 17,
      "metadata": {
        "collapsed": true,
        "id": "iijmHqXhbLD1"
      },
      "outputs": [],
      "source": [
        "# merge!\n",
        "merged_df = pd.merge(visual_df, training_df, on='clean_title', how='inner')"
      ]
    },
    {
      "cell_type": "code",
      "execution_count": 19,
      "metadata": {
        "colab": {
          "base_uri": "https://localhost:8080/",
          "height": 481
        },
        "id": "ygGnrvAHcezJ",
        "outputId": "af5f6461-a421-4f98-be4f-ccacbd070eb0"
      },
      "outputs": [
        {
          "output_type": "execute_result",
          "data": {
            "text/plain": [
              "                         video_file  total_frames_x  overall_avg_brightness  \\\n",
              "0              500 pound jynxzi.mp4             803                  146.81   \n",
              "1      Islam Makhachev VS Adin .mp4             611                   84.68   \n",
              "2      Islam Makhachev VS Adin .mp4             611                   84.68   \n",
              "3  Sigma Kid Love #funny #sigma.mp4             279                  132.93   \n",
              "4  Sigma Kid Love #funny #sigma.mp4             279                  132.93   \n",
              "\n",
              "   avg_motion_intensity  total_frames_y  avg_contrast  \\\n",
              "0                  3.91             803        254.97   \n",
              "1                 10.41             611        252.18   \n",
              "2                 10.41             611        252.18   \n",
              "3                  6.21             279        253.75   \n",
              "4                  6.21             279        253.75   \n",
              "\n",
              "   total_frames_with_faces  angry  disgust  fear  ...  total_shots  \\\n",
              "0                       70   0.44     0.01  0.15  ...            9   \n",
              "1                      200   0.15     0.00  0.08  ...            5   \n",
              "2                      200   0.15     0.00  0.08  ...            5   \n",
              "3                      152   0.13     0.00  0.12  ...            0   \n",
              "4                      152   0.13     0.00  0.12  ...            0   \n",
              "\n",
              "              clean_title  views_per_second  likes_to_views_ratio  \\\n",
              "0          500poundjynxzi      1.598500e+03              0.030743   \n",
              "1    islammakhachevvsadin      4.951381e+03              0.041826   \n",
              "2    islammakhachevvsadin      4.951381e+03              0.041826   \n",
              "3  sigmakidlovefunnysigma      1.960578e+06              0.019349   \n",
              "4  sigmakidlovefunnysigma      6.329957e+05              0.014950   \n",
              "\n",
              "   title_length  has_hashtags  has_emoji video_id  label  \\\n",
              "0            16             0          0      NaN   True   \n",
              "1            25             1          1      NaN   True   \n",
              "2            25             1          1      NaN   True   \n",
              "3            28             0          0      NaN   True   \n",
              "4            28             0          0      NaN   True   \n",
              "\n",
              "                          title  \n",
              "0              500 pound jynxzi  \n",
              "1     Islam Makhachev VS Adin 😂  \n",
              "2     Islam Makhachev VS Adin 😂  \n",
              "3  Sigma Kid Love #funny #sigma  \n",
              "4  Sigma Kid Love #funny #sigma  \n",
              "\n",
              "[5 rows x 26 columns]"
            ],
            "text/html": [
              "\n",
              "  <div id=\"df-ab6d7f27-6989-42a9-aab6-336afd210259\" class=\"colab-df-container\">\n",
              "    <div>\n",
              "<style scoped>\n",
              "    .dataframe tbody tr th:only-of-type {\n",
              "        vertical-align: middle;\n",
              "    }\n",
              "\n",
              "    .dataframe tbody tr th {\n",
              "        vertical-align: top;\n",
              "    }\n",
              "\n",
              "    .dataframe thead th {\n",
              "        text-align: right;\n",
              "    }\n",
              "</style>\n",
              "<table border=\"1\" class=\"dataframe\">\n",
              "  <thead>\n",
              "    <tr style=\"text-align: right;\">\n",
              "      <th></th>\n",
              "      <th>video_file</th>\n",
              "      <th>total_frames_x</th>\n",
              "      <th>overall_avg_brightness</th>\n",
              "      <th>avg_motion_intensity</th>\n",
              "      <th>total_frames_y</th>\n",
              "      <th>avg_contrast</th>\n",
              "      <th>total_frames_with_faces</th>\n",
              "      <th>angry</th>\n",
              "      <th>disgust</th>\n",
              "      <th>fear</th>\n",
              "      <th>...</th>\n",
              "      <th>total_shots</th>\n",
              "      <th>clean_title</th>\n",
              "      <th>views_per_second</th>\n",
              "      <th>likes_to_views_ratio</th>\n",
              "      <th>title_length</th>\n",
              "      <th>has_hashtags</th>\n",
              "      <th>has_emoji</th>\n",
              "      <th>video_id</th>\n",
              "      <th>label</th>\n",
              "      <th>title</th>\n",
              "    </tr>\n",
              "  </thead>\n",
              "  <tbody>\n",
              "    <tr>\n",
              "      <th>0</th>\n",
              "      <td>500 pound jynxzi.mp4</td>\n",
              "      <td>803</td>\n",
              "      <td>146.81</td>\n",
              "      <td>3.91</td>\n",
              "      <td>803</td>\n",
              "      <td>254.97</td>\n",
              "      <td>70</td>\n",
              "      <td>0.44</td>\n",
              "      <td>0.01</td>\n",
              "      <td>0.15</td>\n",
              "      <td>...</td>\n",
              "      <td>9</td>\n",
              "      <td>500poundjynxzi</td>\n",
              "      <td>1.598500e+03</td>\n",
              "      <td>0.030743</td>\n",
              "      <td>16</td>\n",
              "      <td>0</td>\n",
              "      <td>0</td>\n",
              "      <td>NaN</td>\n",
              "      <td>True</td>\n",
              "      <td>500 pound jynxzi</td>\n",
              "    </tr>\n",
              "    <tr>\n",
              "      <th>1</th>\n",
              "      <td>Islam Makhachev VS Adin .mp4</td>\n",
              "      <td>611</td>\n",
              "      <td>84.68</td>\n",
              "      <td>10.41</td>\n",
              "      <td>611</td>\n",
              "      <td>252.18</td>\n",
              "      <td>200</td>\n",
              "      <td>0.15</td>\n",
              "      <td>0.00</td>\n",
              "      <td>0.08</td>\n",
              "      <td>...</td>\n",
              "      <td>5</td>\n",
              "      <td>islammakhachevvsadin</td>\n",
              "      <td>4.951381e+03</td>\n",
              "      <td>0.041826</td>\n",
              "      <td>25</td>\n",
              "      <td>1</td>\n",
              "      <td>1</td>\n",
              "      <td>NaN</td>\n",
              "      <td>True</td>\n",
              "      <td>Islam Makhachev VS Adin 😂</td>\n",
              "    </tr>\n",
              "    <tr>\n",
              "      <th>2</th>\n",
              "      <td>Islam Makhachev VS Adin .mp4</td>\n",
              "      <td>611</td>\n",
              "      <td>84.68</td>\n",
              "      <td>10.41</td>\n",
              "      <td>611</td>\n",
              "      <td>252.18</td>\n",
              "      <td>200</td>\n",
              "      <td>0.15</td>\n",
              "      <td>0.00</td>\n",
              "      <td>0.08</td>\n",
              "      <td>...</td>\n",
              "      <td>5</td>\n",
              "      <td>islammakhachevvsadin</td>\n",
              "      <td>4.951381e+03</td>\n",
              "      <td>0.041826</td>\n",
              "      <td>25</td>\n",
              "      <td>1</td>\n",
              "      <td>1</td>\n",
              "      <td>NaN</td>\n",
              "      <td>True</td>\n",
              "      <td>Islam Makhachev VS Adin 😂</td>\n",
              "    </tr>\n",
              "    <tr>\n",
              "      <th>3</th>\n",
              "      <td>Sigma Kid Love #funny #sigma.mp4</td>\n",
              "      <td>279</td>\n",
              "      <td>132.93</td>\n",
              "      <td>6.21</td>\n",
              "      <td>279</td>\n",
              "      <td>253.75</td>\n",
              "      <td>152</td>\n",
              "      <td>0.13</td>\n",
              "      <td>0.00</td>\n",
              "      <td>0.12</td>\n",
              "      <td>...</td>\n",
              "      <td>0</td>\n",
              "      <td>sigmakidlovefunnysigma</td>\n",
              "      <td>1.960578e+06</td>\n",
              "      <td>0.019349</td>\n",
              "      <td>28</td>\n",
              "      <td>0</td>\n",
              "      <td>0</td>\n",
              "      <td>NaN</td>\n",
              "      <td>True</td>\n",
              "      <td>Sigma Kid Love #funny #sigma</td>\n",
              "    </tr>\n",
              "    <tr>\n",
              "      <th>4</th>\n",
              "      <td>Sigma Kid Love #funny #sigma.mp4</td>\n",
              "      <td>279</td>\n",
              "      <td>132.93</td>\n",
              "      <td>6.21</td>\n",
              "      <td>279</td>\n",
              "      <td>253.75</td>\n",
              "      <td>152</td>\n",
              "      <td>0.13</td>\n",
              "      <td>0.00</td>\n",
              "      <td>0.12</td>\n",
              "      <td>...</td>\n",
              "      <td>0</td>\n",
              "      <td>sigmakidlovefunnysigma</td>\n",
              "      <td>6.329957e+05</td>\n",
              "      <td>0.014950</td>\n",
              "      <td>28</td>\n",
              "      <td>0</td>\n",
              "      <td>0</td>\n",
              "      <td>NaN</td>\n",
              "      <td>True</td>\n",
              "      <td>Sigma Kid Love #funny #sigma</td>\n",
              "    </tr>\n",
              "  </tbody>\n",
              "</table>\n",
              "<p>5 rows × 26 columns</p>\n",
              "</div>\n",
              "    <div class=\"colab-df-buttons\">\n",
              "\n",
              "  <div class=\"colab-df-container\">\n",
              "    <button class=\"colab-df-convert\" onclick=\"convertToInteractive('df-ab6d7f27-6989-42a9-aab6-336afd210259')\"\n",
              "            title=\"Convert this dataframe to an interactive table.\"\n",
              "            style=\"display:none;\">\n",
              "\n",
              "  <svg xmlns=\"http://www.w3.org/2000/svg\" height=\"24px\" viewBox=\"0 -960 960 960\">\n",
              "    <path d=\"M120-120v-720h720v720H120Zm60-500h600v-160H180v160Zm220 220h160v-160H400v160Zm0 220h160v-160H400v160ZM180-400h160v-160H180v160Zm440 0h160v-160H620v160ZM180-180h160v-160H180v160Zm440 0h160v-160H620v160Z\"/>\n",
              "  </svg>\n",
              "    </button>\n",
              "\n",
              "  <style>\n",
              "    .colab-df-container {\n",
              "      display:flex;\n",
              "      gap: 12px;\n",
              "    }\n",
              "\n",
              "    .colab-df-convert {\n",
              "      background-color: #E8F0FE;\n",
              "      border: none;\n",
              "      border-radius: 50%;\n",
              "      cursor: pointer;\n",
              "      display: none;\n",
              "      fill: #1967D2;\n",
              "      height: 32px;\n",
              "      padding: 0 0 0 0;\n",
              "      width: 32px;\n",
              "    }\n",
              "\n",
              "    .colab-df-convert:hover {\n",
              "      background-color: #E2EBFA;\n",
              "      box-shadow: 0px 1px 2px rgba(60, 64, 67, 0.3), 0px 1px 3px 1px rgba(60, 64, 67, 0.15);\n",
              "      fill: #174EA6;\n",
              "    }\n",
              "\n",
              "    .colab-df-buttons div {\n",
              "      margin-bottom: 4px;\n",
              "    }\n",
              "\n",
              "    [theme=dark] .colab-df-convert {\n",
              "      background-color: #3B4455;\n",
              "      fill: #D2E3FC;\n",
              "    }\n",
              "\n",
              "    [theme=dark] .colab-df-convert:hover {\n",
              "      background-color: #434B5C;\n",
              "      box-shadow: 0px 1px 3px 1px rgba(0, 0, 0, 0.15);\n",
              "      filter: drop-shadow(0px 1px 2px rgba(0, 0, 0, 0.3));\n",
              "      fill: #FFFFFF;\n",
              "    }\n",
              "  </style>\n",
              "\n",
              "    <script>\n",
              "      const buttonEl =\n",
              "        document.querySelector('#df-ab6d7f27-6989-42a9-aab6-336afd210259 button.colab-df-convert');\n",
              "      buttonEl.style.display =\n",
              "        google.colab.kernel.accessAllowed ? 'block' : 'none';\n",
              "\n",
              "      async function convertToInteractive(key) {\n",
              "        const element = document.querySelector('#df-ab6d7f27-6989-42a9-aab6-336afd210259');\n",
              "        const dataTable =\n",
              "          await google.colab.kernel.invokeFunction('convertToInteractive',\n",
              "                                                    [key], {});\n",
              "        if (!dataTable) return;\n",
              "\n",
              "        const docLinkHtml = 'Like what you see? Visit the ' +\n",
              "          '<a target=\"_blank\" href=https://colab.research.google.com/notebooks/data_table.ipynb>data table notebook</a>'\n",
              "          + ' to learn more about interactive tables.';\n",
              "        element.innerHTML = '';\n",
              "        dataTable['output_type'] = 'display_data';\n",
              "        await google.colab.output.renderOutput(dataTable, element);\n",
              "        const docLink = document.createElement('div');\n",
              "        docLink.innerHTML = docLinkHtml;\n",
              "        element.appendChild(docLink);\n",
              "      }\n",
              "    </script>\n",
              "  </div>\n",
              "\n",
              "\n",
              "    <div id=\"df-ed038941-89d7-4db4-8453-76cc08340c0e\">\n",
              "      <button class=\"colab-df-quickchart\" onclick=\"quickchart('df-ed038941-89d7-4db4-8453-76cc08340c0e')\"\n",
              "                title=\"Suggest charts\"\n",
              "                style=\"display:none;\">\n",
              "\n",
              "<svg xmlns=\"http://www.w3.org/2000/svg\" height=\"24px\"viewBox=\"0 0 24 24\"\n",
              "     width=\"24px\">\n",
              "    <g>\n",
              "        <path d=\"M19 3H5c-1.1 0-2 .9-2 2v14c0 1.1.9 2 2 2h14c1.1 0 2-.9 2-2V5c0-1.1-.9-2-2-2zM9 17H7v-7h2v7zm4 0h-2V7h2v10zm4 0h-2v-4h2v4z\"/>\n",
              "    </g>\n",
              "</svg>\n",
              "      </button>\n",
              "\n",
              "<style>\n",
              "  .colab-df-quickchart {\n",
              "      --bg-color: #E8F0FE;\n",
              "      --fill-color: #1967D2;\n",
              "      --hover-bg-color: #E2EBFA;\n",
              "      --hover-fill-color: #174EA6;\n",
              "      --disabled-fill-color: #AAA;\n",
              "      --disabled-bg-color: #DDD;\n",
              "  }\n",
              "\n",
              "  [theme=dark] .colab-df-quickchart {\n",
              "      --bg-color: #3B4455;\n",
              "      --fill-color: #D2E3FC;\n",
              "      --hover-bg-color: #434B5C;\n",
              "      --hover-fill-color: #FFFFFF;\n",
              "      --disabled-bg-color: #3B4455;\n",
              "      --disabled-fill-color: #666;\n",
              "  }\n",
              "\n",
              "  .colab-df-quickchart {\n",
              "    background-color: var(--bg-color);\n",
              "    border: none;\n",
              "    border-radius: 50%;\n",
              "    cursor: pointer;\n",
              "    display: none;\n",
              "    fill: var(--fill-color);\n",
              "    height: 32px;\n",
              "    padding: 0;\n",
              "    width: 32px;\n",
              "  }\n",
              "\n",
              "  .colab-df-quickchart:hover {\n",
              "    background-color: var(--hover-bg-color);\n",
              "    box-shadow: 0 1px 2px rgba(60, 64, 67, 0.3), 0 1px 3px 1px rgba(60, 64, 67, 0.15);\n",
              "    fill: var(--button-hover-fill-color);\n",
              "  }\n",
              "\n",
              "  .colab-df-quickchart-complete:disabled,\n",
              "  .colab-df-quickchart-complete:disabled:hover {\n",
              "    background-color: var(--disabled-bg-color);\n",
              "    fill: var(--disabled-fill-color);\n",
              "    box-shadow: none;\n",
              "  }\n",
              "\n",
              "  .colab-df-spinner {\n",
              "    border: 2px solid var(--fill-color);\n",
              "    border-color: transparent;\n",
              "    border-bottom-color: var(--fill-color);\n",
              "    animation:\n",
              "      spin 1s steps(1) infinite;\n",
              "  }\n",
              "\n",
              "  @keyframes spin {\n",
              "    0% {\n",
              "      border-color: transparent;\n",
              "      border-bottom-color: var(--fill-color);\n",
              "      border-left-color: var(--fill-color);\n",
              "    }\n",
              "    20% {\n",
              "      border-color: transparent;\n",
              "      border-left-color: var(--fill-color);\n",
              "      border-top-color: var(--fill-color);\n",
              "    }\n",
              "    30% {\n",
              "      border-color: transparent;\n",
              "      border-left-color: var(--fill-color);\n",
              "      border-top-color: var(--fill-color);\n",
              "      border-right-color: var(--fill-color);\n",
              "    }\n",
              "    40% {\n",
              "      border-color: transparent;\n",
              "      border-right-color: var(--fill-color);\n",
              "      border-top-color: var(--fill-color);\n",
              "    }\n",
              "    60% {\n",
              "      border-color: transparent;\n",
              "      border-right-color: var(--fill-color);\n",
              "    }\n",
              "    80% {\n",
              "      border-color: transparent;\n",
              "      border-right-color: var(--fill-color);\n",
              "      border-bottom-color: var(--fill-color);\n",
              "    }\n",
              "    90% {\n",
              "      border-color: transparent;\n",
              "      border-bottom-color: var(--fill-color);\n",
              "    }\n",
              "  }\n",
              "</style>\n",
              "\n",
              "      <script>\n",
              "        async function quickchart(key) {\n",
              "          const quickchartButtonEl =\n",
              "            document.querySelector('#' + key + ' button');\n",
              "          quickchartButtonEl.disabled = true;  // To prevent multiple clicks.\n",
              "          quickchartButtonEl.classList.add('colab-df-spinner');\n",
              "          try {\n",
              "            const charts = await google.colab.kernel.invokeFunction(\n",
              "                'suggestCharts', [key], {});\n",
              "          } catch (error) {\n",
              "            console.error('Error during call to suggestCharts:', error);\n",
              "          }\n",
              "          quickchartButtonEl.classList.remove('colab-df-spinner');\n",
              "          quickchartButtonEl.classList.add('colab-df-quickchart-complete');\n",
              "        }\n",
              "        (() => {\n",
              "          let quickchartButtonEl =\n",
              "            document.querySelector('#df-ed038941-89d7-4db4-8453-76cc08340c0e button');\n",
              "          quickchartButtonEl.style.display =\n",
              "            google.colab.kernel.accessAllowed ? 'block' : 'none';\n",
              "        })();\n",
              "      </script>\n",
              "    </div>\n",
              "\n",
              "    </div>\n",
              "  </div>\n"
            ],
            "application/vnd.google.colaboratory.intrinsic+json": {
              "type": "dataframe"
            }
          },
          "metadata": {},
          "execution_count": 19
        }
      ],
      "source": [
        "merged_df[['video_file', 'total_frames_x', 'overall_avg_brightness', 'avg_motion_intensity',\n",
        "           'total_frames_y', 'avg_contrast', 'total_frames_with_faces', 'angry', 'disgust', 'fear', 'happy',\n",
        "           'sad', 'surprise', 'neutral', 'face_presence_ratio', 'avg_shot_length_frames', 'total_shots',\n",
        "           'clean_title', 'views_per_second', 'likes_to_views_ratio', 'title_length', 'has_hashtags', 'has_emoji', 'video_id', 'label', 'title']\n",
        "].head()\n"
      ]
    },
    {
      "cell_type": "code",
      "execution_count": 20,
      "metadata": {
        "colab": {
          "base_uri": "https://localhost:8080/",
          "height": 718
        },
        "id": "JxzcOX2sBdxB",
        "outputId": "69fac50c-dc58-46d9-d289-f0fea7d4dd7e"
      },
      "outputs": [
        {
          "output_type": "stream",
          "name": "stdout",
          "text": [
            "accuracy: 1.00\n",
            "\n",
            " classification Report:\n",
            "              precision    recall  f1-score   support\n",
            "\n",
            "        True       1.00      1.00      1.00         2\n",
            "\n",
            "    accuracy                           1.00         2\n",
            "   macro avg       1.00      1.00      1.00         2\n",
            "weighted avg       1.00      1.00      1.00         2\n",
            "\n"
          ]
        },
        {
          "output_type": "stream",
          "name": "stderr",
          "text": [
            "/usr/local/lib/python3.11/dist-packages/sklearn/metrics/_classification.py:407: UserWarning: A single label was found in 'y_true' and 'y_pred'. For the confusion matrix to have the correct shape, use the 'labels' parameter to pass all known labels.\n",
            "  warnings.warn(\n"
          ]
        },
        {
          "output_type": "display_data",
          "data": {
            "text/plain": [
              "<Figure size 640x480 with 2 Axes>"
            ],
            "image/png": "[encoded data removed]"
          },
          "metadata": {}
        }
      ],
      "source": [
        "\n",
        "# make predictions\n",
        "y_pred = clf.predict(X_test)\n",
        "\n",
        "# accuracy\n",
        "acc = accuracy_score(y_test, y_pred)\n",
        "print(f\"accuracy: {acc:.2f}\")\n",
        "\n",
        "# detailed report\n",
        "print(\"\\n classification Report:\")\n",
        "print(classification_report(y_test, y_pred))\n",
        "\n",
        "# confusion matrix\n",
        "cm = confusion_matrix(y_test, y_pred)\n",
        "sns.heatmap(cm, annot=True, fmt='d', cmap='Blues', xticklabels=['Not Viral', 'Viral'], yticklabels=['Not Viral', 'Viral'])\n",
        "plt.xlabel(\"predicted\")\n",
        "plt.ylabel(\"actual\")\n",
        "plt.title(\"clippability Confusion Matrix\")\n",
        "plt.show()\n"
      ]
    },
    {
      "cell_type": "code",
      "execution_count": 21,
      "metadata": {
        "colab": {
          "base_uri": "https://localhost:8080/",
          "height": 694
        },
        "id": "ttpLZqoJDE5P",
        "outputId": "36ba8196-c86e-45c6-aafb-869ea77c7ad3"
      },
      "outputs": [
        {
          "output_type": "display_data",
          "data": {
            "text/plain": [
              "<Figure size 1000x600 with 1 Axes>"
            ],
            "image/png": "[encoded data removed]"
          },
          "metadata": {}
        },
        {
          "output_type": "stream",
          "name": "stdout",
          "text": [
            "Sum of feature importances: 1.0\n",
            "Feature importances: [0.04545455 0.04545455 0.06060606 0.06060606 0.07575758 0.03030303\n",
            " 0.07575758 0.06060606 0.07575758 0.01515152 0.01515152 0.\n",
            " 0.         0.06060606 0.02777778 0.09090909 0.07575758 0.04545455\n",
            " 0.06060606 0.07575758 0.00252525]\n"
          ]
        }
      ],
      "source": [
        "\n",
        "# get feature names (excluding non-feature columns)\n",
        "feature_names = X.columns\n",
        "\n",
        "# get importances from the trained model\n",
        "importances = clf.feature_importances_\n",
        "\n",
        "# sort by importance\n",
        "indices = np.argsort(importances)[::-1]\n",
        "\n",
        "# plot top features\n",
        "plt.figure(figsize=(10, 6))\n",
        "plt.title(\"Feature Importance in Clippability Classifier\")\n",
        "plt.bar(range(len(importances)), importances[indices], align=\"center\")\n",
        "plt.xticks(range(len(importances)), [feature_names[i] for i in indices], rotation=45, ha='right')\n",
        "plt.tight_layout()\n",
        "plt.show()\n",
        "\n",
        "print(\"Sum of feature importances:\", importances.sum())\n",
        "print(\"Feature importances:\", importances)\n"
      ]
    },
    {
      "cell_type": "code",
      "source": [
        "print(\"Feature columns used in model:\", list(X.columns))         # in classifier"
      ],
      "metadata": {
        "colab": {
          "base_uri": "https://localhost:8080/"
        },
        "id": "1jA8-246kqou",
        "outputId": "1d0d8e48-c4a5-4b86-983f-21944a2aca18"
      },
      "execution_count": 22,
      "outputs": [
        {
          "output_type": "stream",
          "name": "stdout",
          "text": [
            "🧠 Feature columns used in model: ['total_frames_x', 'overall_avg_brightness', 'avg_motion_intensity', 'total_frames_y', 'avg_contrast', 'total_frames_with_faces', 'angry', 'disgust', 'fear', 'happy', 'sad', 'surprise', 'neutral', 'face_presence_ratio', 'avg_shot_length_frames', 'total_shots', 'views_per_second', 'likes_to_views_ratio', 'title_length', 'has_hashtags', 'has_emoji']\n"
          ]
        }
      ]
    },
    {
      "cell_type": "code",
      "source": [
        "import joblib"
      ],
      "metadata": {
        "id": "l2b-bdtvAuAK"
      },
      "execution_count": 23,
      "outputs": []
    },
    {
      "cell_type": "code",
      "source": [
        "from google.colab import drive\n",
        "drive.mount('/content/drive')\n",
        "\n",
        "import joblib\n",
        "joblib.dump(clf, \"/content/drive/MyDrive/clipfarm_random_forest.joblib\")\n"
      ],
      "metadata": {
        "colab": {
          "base_uri": "https://localhost:8080/"
        },
        "id": "V3QxAOLCBpU7",
        "outputId": "46b8b565-08ca-4e0e-ff85-8b130381be6c"
      },
      "execution_count": 24,
      "outputs": [
        {
          "output_type": "stream",
          "name": "stdout",
          "text": [
            "Drive already mounted at /content/drive; to attempt to forcibly remount, call drive.mount(\"/content/drive\", force_remount=True).\n"
          ]
        },
        {
          "output_type": "execute_result",
          "data": {
            "text/plain": [
              "['/content/drive/MyDrive/clipfarm_random_forest.joblib']"
            ]
          },
          "metadata": {},
          "execution_count": 24
        }
      ]
    },
    {
      "cell_type": "markdown",
      "metadata": {
        "id": "NCPW3sWkW5BV"
      },
      "source": [
        "# ignore - merging dfs"
      ]
    },
    {
      "cell_type": "code",
      "execution_count": null,
      "metadata": {
        "id": "4-xcs-2xXAZq"
      },
      "outputs": [],
      "source": [
        "import pandas as pd\n",
        "\n",
        "# Step 1: Load the datasets\n",
        "visual_df = pd.read_csv('/content/drive/My Drive/clipfarm_visual_features.csv.csv')\n",
        "training_df = pd.read_csv('/content/drive/My Drive/clip_farm_outputs.csv')\n",
        "\n",
        "# Step 2: Preview to find the common key\n",
        "print(\"Visual columns:\", visual_df.columns.tolist())\n",
        "print(\"Metric columns:\", training_df.columns.tolist())\n"
      ]
    },
    {
      "cell_type": "code",
      "execution_count": null,
      "metadata": {
        "id": "je-lxS0HtU8T"
      },
      "outputs": [],
      "source": [
        "merged_df['title'].head(10)\n"
      ]
    },
    {
      "cell_type": "code",
      "execution_count": null,
      "metadata": {
        "id": "FopcH2w_tm3F"
      },
      "outputs": [],
      "source": [
        "# Clean and normalize titles\n",
        "training_df['video_id'] = training_df['title'].str.lower().str.strip()\n",
        "\n",
        "# Optional: remove special chars to match filenames if needed\n",
        "import re\n",
        "training_df['video_id'] = training_df['video_id'].apply(lambda x: re.sub(r'[^\\w\\s]', '', x))\n"
      ]
    },
    {
      "cell_type": "code",
      "execution_count": null,
      "metadata": {
        "id": "AxnvU3grgLQ_"
      },
      "outputs": [],
      "source": [
        "# Remove .mp4 or other extensions to make them match\n",
        "visual_df['video_id'] = visual_df['video_file'].str.replace('.mp4', '', regex=False)\n",
        "\n",
        "# Now you can safely merge!\n",
        "merged_df = pd.merge(visual_df, training_df, on='video_id', how='inner')\n",
        "\n",
        "print(\"Merged shape:\", merged_df.shape)\n",
        "merged_df[['video_id', 'label']].head()\n",
        "\n",
        "# Clean and normalize titles\n",
        "training_df['video_id'] = training_df['title'].str.lower().str.strip()\n",
        "\n",
        "# Optional: remove special chars to match filenames if needed\n",
        "import re\n",
        "training_df['video_id'] = training_df['video_id'].apply(lambda x: re.sub(r'[^\\w\\s]', '', x))\n"
      ]
    },
    {
      "cell_type": "code",
      "execution_count": null,
      "metadata": {
        "id": "YRYP7Iz0dh3u"
      },
      "outputs": [],
      "source": [
        "print(training_df[['video_id', 'label']].dropna().head(10))\n"
      ]
    },
    {
      "cell_type": "code",
      "execution_count": null,
      "metadata": {
        "id": "5wmXN4H-bR2T"
      },
      "outputs": [],
      "source": [
        "print(\"Visual DataFrame columns:\")\n",
        "print(visual_df.columns)\n",
        "\n",
        "print(\"\\nMetric (training) DataFrame columns:\")\n",
        "print(training_df.columns)\n"
      ]
    },
    {
      "cell_type": "code",
      "execution_count": null,
      "metadata": {
        "id": "snSY2dwvahzE"
      },
      "outputs": [],
      "source": [
        "# Rename the video_file column to video_id to match the metric data\n",
        "visual_df = visual_df.rename(columns={'video_file': 'video_id'})\n",
        "\n",
        "# Remove .mp4 or other extensions to make them match\n",
        "visual_df['video_id'] = visual_df['video_id'].str.replace('.mp4', '', regex=False)\n",
        "\n",
        "# Let's assume they both have 'video_id'\n",
        "merged_df = pd.merge(visual_df, training_df, on='video_id', how='inner')\n",
        "\n",
        "print(\"Merged shape:\", merged_df.shape)\n",
        "merged_df.head()\n"
      ]
    },
    {
      "cell_type": "markdown",
      "metadata": {
        "id": "Zw1GCF2Piarf"
      },
      "source": [
        "debugging - why no metric data being pulled"
      ]
    },
    {
      "cell_type": "code",
      "execution_count": null,
      "metadata": {
        "id": "15uryNSDhWeW"
      },
      "outputs": [],
      "source": [
        "print(\"Label distribution:\")\n",
        "print(merged_df['label'].value_counts())\n"
      ]
    },
    {
      "cell_type": "code",
      "execution_count": null,
      "metadata": {
        "id": "8WcjRqoQheYU"
      },
      "outputs": [],
      "source": [
        "print(\"Missing labels after merge:\", merged_df['label'].isnull().sum())\n",
        "print(\"Label distribution:\", merged_df['label'].value_counts())\n"
      ]
    },
    {
      "cell_type": "code",
      "execution_count": null,
      "metadata": {
        "id": "wxP5r_iEc6by"
      },
      "outputs": [],
      "source": [
        "merged_df['label'].isnull().sum()\n"
      ]
    },
    {
      "cell_type": "code",
      "execution_count": null,
      "metadata": {
        "id": "dpdhoIDRc9id"
      },
      "outputs": [],
      "source": [
        "merged_df[['video_id', 'label']].head(10)\n"
      ]
    },
    {
      "cell_type": "code",
      "execution_count": null,
      "metadata": {
        "id": "RfGx0QpEcqcf"
      },
      "outputs": [],
      "source": [
        "# What are we predicting?\n",
        "print(\"Label column values:\", merged_df['label'].unique())\n"
      ]
    },
    {
      "cell_type": "code",
      "execution_count": null,
      "metadata": {
        "id": "nnjsWLifh07F"
      },
      "outputs": [],
      "source": [
        "print(\"First few visual IDs:\")\n",
        "print(visual_df['video_id'].head(10))\n",
        "\n",
        "print(\"\\nFirst few metric IDs:\")\n",
        "print(training_df['video_id'].head(10))\n"
      ]
    },
    {
      "cell_type": "code",
      "execution_count": null,
      "metadata": {
        "id": "LJw_Kgn9ijCn"
      },
      "outputs": [],
      "source": [
        "print(training_df['video_id'].head(10))\n"
      ]
    }
  ],
  "metadata": {
    "colab": {
      "provenance": [],
      "toc_visible": true,
      "collapsed_sections": [
        "NCPW3sWkW5BV"
      ]
    },
    "kernelspec": {
      "display_name": "Python 3",
      "name": "python3"
    },
    "language_info": {
      "name": "python"
    }
  },
  "nbformat": 4,
  "nbformat_minor": 0
}